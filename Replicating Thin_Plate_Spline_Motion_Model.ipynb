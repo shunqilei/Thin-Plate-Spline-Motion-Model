{
  "cells": [
    {
      "cell_type": "code",
      "execution_count": null,
      "metadata": {
        "id": "wCV9R4cV_Uap"
      },
      "outputs": [],
      "source": [
        "# Downgrade python to 3.9\n",
        "!sudo apt-get update -y\n",
        "!sudo apt-get install python3.9\n",
        "!sudo update-alternatives --install /usr/bin/python3 python3 /usr/bin/python3.9 1\n",
        "!sudo update-alternatives --config python3\n",
        "!python --version\n",
        "!sudo apt-get install python3-pip"
      ]
    },
    {
      "cell_type": "code",
      "execution_count": null,
      "metadata": {
        "id": "rOMdDhYE-2-O"
      },
      "outputs": [],
      "source": [
        "!git clone https://github.com/shunqilei/Thin-Plate-Spline-Motion-Model.git"
      ]
    },
    {
      "cell_type": "code",
      "execution_count": null,
      "metadata": {
        "colab": {
          "base_uri": "https://localhost:8080/"
        },
        "id": "Jyi0nUoOJKC6",
        "outputId": "24787b09-8f3e-4dd2-dde0-90541a40734b"
      },
      "outputs": [
        {
          "output_type": "stream",
          "name": "stdout",
          "text": [
            "/content/Thin-Plate-Spline-Motion-Model\n"
          ]
        }
      ],
      "source": [
        "cd Thin-Plate-Spline-Motion-Model"
      ]
    },
    {
      "cell_type": "code",
      "execution_count": null,
      "metadata": {
        "id": "TC1pIwmIUxM5"
      },
      "outputs": [],
      "source": [
        "!pip install -r requirements.txt\n",
        "!pip install matplotlib\n",
        "!pip install scikit-image==0.18.3\n",
        "!pip install scikit-learn==1.0\n",
        "!pip install PyYAML==5.4.1\n",
        "!pip install torch\n",
        "!pip install torchvision\n",
        "!pip install tqdm"
      ]
    },
    {
      "cell_type": "code",
      "execution_count": null,
      "metadata": {
        "id": "OzYZDRk8_ikB",
        "colab": {
          "base_uri": "https://localhost:8080/"
        },
        "outputId": "799661c5-d8f9-4cd8-ce67-f8de7a3daecc"
      },
      "outputs": [
        {
          "output_type": "stream",
          "name": "stdout",
          "text": [
            "mkdir: cannot create directory ‘checkpoints’: File exists\n",
            "--2023-05-11 05:24:24--  https://cloud.tsinghua.edu.cn/f/da8d61d012014b12a9e4/?dl=1\n",
            "Resolving cloud.tsinghua.edu.cn (cloud.tsinghua.edu.cn)... 166.111.6.101, 2402:f000:1:406:166:111:6:101\n",
            "Connecting to cloud.tsinghua.edu.cn (cloud.tsinghua.edu.cn)|166.111.6.101|:443... connected.\n",
            "HTTP request sent, awaiting response... 302 Found\n",
            "Location: https://cloud.tsinghua.edu.cn/seafhttp/files/391d9495-8935-47c9-9857-2ca88c605eed/vox.pth.tar [following]\n",
            "--2023-05-11 05:24:25--  https://cloud.tsinghua.edu.cn/seafhttp/files/391d9495-8935-47c9-9857-2ca88c605eed/vox.pth.tar\n",
            "Reusing existing connection to cloud.tsinghua.edu.cn:443.\n",
            "HTTP request sent, awaiting response... 416 Requested Range Not Satisfiable\n",
            "\n",
            "    The file is already fully retrieved; nothing to do.\n",
            "\n",
            "--2023-05-11 05:24:26--  https://cloud.tsinghua.edu.cn/f/483ef53650b14ac7ae70/?dl=1\n",
            "Resolving cloud.tsinghua.edu.cn (cloud.tsinghua.edu.cn)... 166.111.6.101, 2402:f000:1:406:166:111:6:101\n",
            "Connecting to cloud.tsinghua.edu.cn (cloud.tsinghua.edu.cn)|166.111.6.101|:443... connected.\n",
            "HTTP request sent, awaiting response... 302 Found\n",
            "Location: https://cloud.tsinghua.edu.cn/seafhttp/files/9d93f556-db30-4f5c-bd0f-3cd8b854498d/ted.pth.tar [following]\n",
            "--2023-05-11 05:24:27--  https://cloud.tsinghua.edu.cn/seafhttp/files/9d93f556-db30-4f5c-bd0f-3cd8b854498d/ted.pth.tar\n",
            "Reusing existing connection to cloud.tsinghua.edu.cn:443.\n",
            "HTTP request sent, awaiting response... 200 OK\n",
            "Length: 350993469 (335M) [application/octet-stream]\n",
            "Saving to: ‘checkpoints/ted.pth.tar’\n",
            "\n",
            "checkpoints/ted.pth 100%[===================>] 334.73M  9.30MB/s    in 37s     \n",
            "\n",
            "2023-05-11 05:25:04 (9.15 MB/s) - ‘checkpoints/ted.pth.tar’ saved [350993469/350993469]\n",
            "\n",
            "--2023-05-11 05:25:04--  https://cloud.tsinghua.edu.cn/f/9ec01fa4aaef423c8c02/?dl=1\n",
            "Resolving cloud.tsinghua.edu.cn (cloud.tsinghua.edu.cn)... 166.111.6.101, 2402:f000:1:406:166:111:6:101\n",
            "Connecting to cloud.tsinghua.edu.cn (cloud.tsinghua.edu.cn)|166.111.6.101|:443... connected.\n",
            "HTTP request sent, awaiting response... 302 Found\n",
            "Location: https://cloud.tsinghua.edu.cn/seafhttp/files/6ea84b11-5463-495f-9dec-2d2d90e251eb/taichi.pth.tar [following]\n",
            "--2023-05-11 05:25:06--  https://cloud.tsinghua.edu.cn/seafhttp/files/6ea84b11-5463-495f-9dec-2d2d90e251eb/taichi.pth.tar\n",
            "Reusing existing connection to cloud.tsinghua.edu.cn:443.\n",
            "HTTP request sent, awaiting response... 200 OK\n",
            "Length: 350993469 (335M) [application/octet-stream]\n",
            "Saving to: ‘checkpoints/taichi.pth.tar’\n",
            "\n",
            "checkpoints/taichi. 100%[===================>] 334.73M  10.2MB/s    in 36s     \n",
            "\n",
            "2023-05-11 05:25:42 (9.42 MB/s) - ‘checkpoints/taichi.pth.tar’ saved [350993469/350993469]\n",
            "\n",
            "--2023-05-11 05:25:42--  https://cloud.tsinghua.edu.cn/f/cd411b334a2e49cdb1e2/?dl=1\n",
            "Resolving cloud.tsinghua.edu.cn (cloud.tsinghua.edu.cn)... 166.111.6.101, 2402:f000:1:406:166:111:6:101\n",
            "Connecting to cloud.tsinghua.edu.cn (cloud.tsinghua.edu.cn)|166.111.6.101|:443... connected.\n",
            "HTTP request sent, awaiting response... 302 Found\n",
            "Location: https://cloud.tsinghua.edu.cn/seafhttp/files/c11a3e8b-bb51-451b-a0ee-30d737fe551e/mgif.pth.tar [following]\n",
            "--2023-05-11 05:25:44--  https://cloud.tsinghua.edu.cn/seafhttp/files/c11a3e8b-bb51-451b-a0ee-30d737fe551e/mgif.pth.tar\n",
            "Reusing existing connection to cloud.tsinghua.edu.cn:443.\n",
            "HTTP request sent, awaiting response... 416 Requested Range Not Satisfiable\n",
            "\n",
            "    The file is already fully retrieved; nothing to do.\n",
            "\n"
          ]
        }
      ],
      "source": [
        "!mkdir checkpoints\n",
        "!wget -c https://cloud.tsinghua.edu.cn/f/da8d61d012014b12a9e4/?dl=1 -O checkpoints/vox.pth.tar\n",
        "!wget -c https://cloud.tsinghua.edu.cn/f/483ef53650b14ac7ae70/?dl=1 -O checkpoints/ted.pth.tar\n",
        "!wget -c https://cloud.tsinghua.edu.cn/f/9ec01fa4aaef423c8c02/?dl=1 -O checkpoints/taichi.pth.tar\n",
        "!wget -c https://cloud.tsinghua.edu.cn/f/cd411b334a2e49cdb1e2/?dl=1 -O checkpoints/mgif.pth.tar"
      ]
    },
    {
      "cell_type": "code",
      "execution_count": null,
      "metadata": {
        "id": "czsWABcK_2KE"
      },
      "outputs": [],
      "source": [
        "import torch\n",
        "\n",
        "# edit the config\n",
        "device = torch.device('cuda:0')\n",
        "dataset_name = 'mgif' # ['vox', 'taichi', 'ted', 'mgif']\n",
        "source_image_path = './assets/mgif4.png'\n",
        "driving_video_path = './assets/00004.mp4'\n",
        "output_video_path = './generated-mgif4.mp4'\n",
        "config_path = 'config/mgif-256.yaml'\n",
        "checkpoint_path = 'checkpoints/mgif.pth.tar'\n",
        "predict_mode = 'standard' # ['standard', 'relative', 'avd']\n",
        "find_best_frame = False # when use the relative mode to animate a face, use 'find_best_frame=True' can get better quality result\n",
        "\n",
        "pixel = 256 # for vox, taichi and mgif, the resolution is 256*256\n",
        "if(dataset_name == 'ted'): # for ted, the resolution is 384*384\n",
        "    pixel = 384\n",
        "\n",
        "if find_best_frame:\n",
        "  !pip install face_alignment"
      ]
    },
    {
      "cell_type": "markdown",
      "metadata": {
        "id": "I0_HF4LCc9C-"
      },
      "source": [
        "# Evaluate pretrained model"
      ]
    },
    {
      "cell_type": "code",
      "execution_count": null,
      "metadata": {
        "id": "W79aoBguKyYd"
      },
      "outputs": [],
      "source": [
        "from frames_dataset import FramesDataset\n",
        "from demo import load_checkpoints\n",
        "import os\n",
        "from tqdm import tqdm\n",
        "import torch\n",
        "from torch.utils.data import DataLoader\n",
        "import numpy as np\n",
        "import imageio\n",
        "import yaml\n",
        "from modules.inpainting_network import InpaintingNetwork\n",
        "from modules.bg_motion_predictor import BGMotionPredictor\n",
        "from modules.keypoint_detector import KPDetector\n",
        "from modules.dense_motion import DenseMotionNetwork\n",
        "from modules.avd_network import AVDNetwork\n",
        "\n",
        "def load_model_from_checkpoint(config, checkpoint_path):\n",
        "    inpainting_network = InpaintingNetwork(**config['model_params']['generator_params'],\n",
        "                                           **config['model_params']['common_params'])\n",
        "\n",
        "    if torch.cuda.is_available():\n",
        "        inpainting_network.to(device)\n",
        "\n",
        "    kp_detector = KPDetector(**config['model_params']['common_params'])\n",
        "    dense_motion_network = DenseMotionNetwork(**config['model_params']['common_params'],\n",
        "                                              **config['model_params']['dense_motion_params'])\n",
        "                                                           \n",
        "    if torch.cuda.is_available():\n",
        "        kp_detector.to(device)\n",
        "        dense_motion_network.to(device)\n",
        "\n",
        "    bg_predictor = None\n",
        "    if (config['model_params']['common_params']['bg']):\n",
        "        bg_predictor = BGMotionPredictor()\n",
        "        if torch.cuda.is_available():\n",
        "            bg_predictor.to(device)\n",
        "    \n",
        "    checkpoint = torch.load(checkpoint_path)\n",
        "    if inpainting_network is not None:\n",
        "        inpainting_network.load_state_dict(checkpoint['inpainting_network'])\n",
        "    if kp_detector is not None:\n",
        "        kp_detector.load_state_dict(checkpoint['kp_detector'])\n",
        "    if bg_predictor is not None and 'bg_predictor' in checkpoint:\n",
        "        bg_predictor.load_state_dict(checkpoint['bg_predictor'])\n",
        "    if dense_motion_network is not None:\n",
        "        dense_motion_network.load_state_dict(checkpoint['dense_motion_network'])\n",
        "\n",
        "    return inpainting_network, kp_detector, bg_predictor, dense_motion_network \n",
        "\n",
        "def load_dataset(mode, config_path):\n",
        "    with open(config_path) as f:\n",
        "        config = yaml.safe_load(f)\n",
        "    dataset = FramesDataset(is_train=(mode == 'train'), **config['dataset_params'])\n",
        "    return dataset\n",
        "\n",
        "def reconstruction(config_path, inpainting_network, kp_detector, bg_predictor, dense_motion_network, dataset):\n",
        "    with open(config_path) as f:\n",
        "        config = yaml.safe_load(f)\n",
        "    log_dir = os.path.join('checkpoints')\n",
        "    png_dir = os.path.join(log_dir, 'reconstruction/png')\n",
        "    log_dir = os.path.join(log_dir, 'reconstruction')\n",
        "\n",
        "    dataloader = DataLoader(dataset, batch_size=1, shuffle=False, num_workers=1)\n",
        "\n",
        "    if not os.path.exists(log_dir):\n",
        "        os.makedirs(log_dir)\n",
        "\n",
        "    if not os.path.exists(png_dir):\n",
        "        os.makedirs(png_dir)\n",
        "    \n",
        "    loss_list = []\n",
        "    test_loss_per_video = []\n",
        "\n",
        "    inpainting_network.eval()\n",
        "    kp_detector.eval()\n",
        "    dense_motion_network.eval()\n",
        "    if bg_predictor:\n",
        "        bg_predictor.eval()\n",
        "\n",
        "    for it, x in tqdm(enumerate(dataloader)):\n",
        "        with torch.no_grad():\n",
        "            predictions = []\n",
        "            visualizations = []\n",
        "            if torch.cuda.is_available():\n",
        "                x['video'] = x['video'].cuda()\n",
        "            kp_source = kp_detector(x['video'][:, :, 0])\n",
        "            test_loss = 0\n",
        "            for frame_idx in range(x['video'].shape[2]):\n",
        "                source = x['video'][:, :, 0]\n",
        "                driving = x['video'][:, :, frame_idx]\n",
        "                kp_driving = kp_detector(driving)\n",
        "                bg_params = None\n",
        "                if bg_predictor:\n",
        "                    bg_params = bg_predictor(source, driving)\n",
        "                \n",
        "                dense_motion = dense_motion_network(source_image=source, kp_driving=kp_driving,\n",
        "                                                    kp_source=kp_source, bg_param = bg_params, \n",
        "                                                    dropout_flag = False)\n",
        "                out = inpainting_network(source, dense_motion)\n",
        "                out['kp_source'] = kp_source\n",
        "                out['kp_driving'] = kp_driving\n",
        "\n",
        "                predictions.append(np.transpose(out['prediction'].data.cpu().numpy(), [0, 2, 3, 1])[0])\n",
        "                loss = torch.abs(out['prediction'] - driving).mean().cpu().numpy()\n",
        "                \n",
        "                loss_list.append(loss)\n",
        "                test_loss += loss\n",
        "            # print(np.mean(loss_list))\n",
        "            test_loss_per_video.append(test_loss/x['video'].shape[2])\n",
        "            predictions = np.concatenate(predictions, axis=1)\n",
        "            imageio.imsave(os.path.join(png_dir, x['name'][0] + '.png'), (255 * predictions).astype(np.uint8))\n",
        "    print(\"\\nReconstruction L1 loss: %s\" % np.mean(loss_list))\n",
        "    return test_loss_per_video"
      ]
    },
    {
      "cell_type": "markdown",
      "metadata": {
        "id": "C3_IGLCJdiVT"
      },
      "source": [
        "## pretrained model on mgif dataset"
      ]
    },
    {
      "cell_type": "code",
      "execution_count": null,
      "metadata": {
        "id": "JDe4YCZyP0pL",
        "colab": {
          "base_uri": "https://localhost:8080/"
        },
        "outputId": "e372104f-a3a8-4407-c688-c5566408bec9"
      },
      "outputs": [
        {
          "output_type": "stream",
          "name": "stdout",
          "text": [
            "None\n",
            "Use predefined train-test split.\n"
          ]
        },
        {
          "output_type": "stream",
          "name": "stderr",
          "text": [
            "100it [03:56,  2.37s/it]"
          ]
        },
        {
          "output_type": "stream",
          "name": "stdout",
          "text": [
            "\n",
            "Reconstruction L1 loss: 0.02012752\n"
          ]
        },
        {
          "output_type": "stream",
          "name": "stderr",
          "text": [
            "\n"
          ]
        }
      ],
      "source": [
        "# Evaluate pre-trained model performance\n",
        "with open(config_path) as f:\n",
        "    config = yaml.safe_load(f)\n",
        "checkpoint_path = 'checkpoints/mgif.pth.tar'\n",
        "inpainting_network, kp_detector, bg_predictor, dense_motion_network = load_model_from_checkpoint(config, checkpoint_path)\n",
        "dataset = load_dataset('reconstruction', config_path)\n",
        "# Reconstructed videos will be saved to ./checkpoints/reconstruction/png\n",
        "mgif_test_loss = reconstruction(config_path, inpainting_network, kp_detector, bg_predictor, dense_motion_network, dataset)"
      ]
    },
    {
      "cell_type": "code",
      "source": [
        "fig = plt.figure(figsize=(40, 20))\n",
        "plt.plot(test_loss)\n",
        "plt.xticks(np.arange(100))\n",
        "plt.yticks(np.arange(0,0.1,step=0.005))\n",
        "plt.savefig(\"test_loss_graph\")"
      ],
      "metadata": {
        "id": "uswcq08fGX-i"
      },
      "execution_count": null,
      "outputs": []
    },
    {
      "cell_type": "code",
      "source": [
        "driving = imageio.imread(\"moving-gif/test/00001.gif\")"
      ],
      "metadata": {
        "id": "0tpvXuxvfMxa"
      },
      "execution_count": 64,
      "outputs": []
    },
    {
      "cell_type": "code",
      "source": [
        "str(12).zfill(5)"
      ],
      "metadata": {
        "colab": {
          "base_uri": "https://localhost:8080/",
          "height": 35
        },
        "id": "3D_he5xugXSH",
        "outputId": "2e6e8f83-b0c7-4783-b0a7-23cd42644008"
      },
      "execution_count": 73,
      "outputs": [
        {
          "output_type": "execute_result",
          "data": {
            "text/plain": [
              "'00012'"
            ],
            "application/vnd.google.colaboratory.intrinsic+json": {
              "type": "string"
            }
          },
          "metadata": {},
          "execution_count": 73
        }
      ]
    },
    {
      "cell_type": "code",
      "source": [
        "fig = plt.figure(figsize=(50, 50))\n",
        "plt.imshow(driving)\n",
        "plt.savefig(\"random\")"
      ],
      "metadata": {
        "id": "0zuHRBQvfe3_"
      },
      "execution_count": 70,
      "outputs": []
    },
    {
      "cell_type": "code",
      "source": [
        "fig = plt.figure(figsize=(50, 10))\n",
        "sorted_loss = sorted(enumerate(mgif_test_loss), key=lambda x: x[1], reverse=True )[:5]\n",
        "for i in range(5):\n",
        "    a = fig.add_subplot(1, 5, i+1)\n",
        "    gif = imageio.imread(f\"moving-gif/test/{str(sorted_loss[i][0]).zfill(5)}.gif\")\n",
        "    if len(gif.shape) < 3:\n",
        "      gif = gif[..., np.newaxis]\n",
        "      plt.imshow(gif, cmap='gray', vmin=0, vmax=255)\n",
        "    else:\n",
        "      plt.imshow(gif)\n",
        "    a.axis(\"off\")\n",
        "plt.savefig(\"top_5_worst\")"
      ],
      "metadata": {
        "id": "h1XVw--yJeSx"
      },
      "execution_count": 87,
      "outputs": []
    },
    {
      "cell_type": "code",
      "source": [
        "sorted_loss"
      ],
      "metadata": {
        "colab": {
          "base_uri": "https://localhost:8080/"
        },
        "id": "hB4pgX7ddd42",
        "outputId": "4f08831a-d78e-4f51-c84e-c1c6b23eab6a"
      },
      "execution_count": 81,
      "outputs": [
        {
          "output_type": "execute_result",
          "data": {
            "text/plain": [
              "[(70, 0.09117175338569083),\n",
              " (67, 0.07672411038400355),\n",
              " (80, 0.06674102617907161),\n",
              " (87, 0.06580174004525219),\n",
              " (89, 0.06377158158190355)]"
            ]
          },
          "metadata": {},
          "execution_count": 81
        }
      ]
    },
    {
      "cell_type": "code",
      "source": [
        "# Evaluate pre-trained model performance\n",
        "checkpoint_path = 'checkpoints/vox.pth.tar'\n",
        "inpainting_network, kp_detector, bg_predictor, dense_motion_network = load_model_from_checkpoint(config, checkpoint_path)\n",
        "dataset = load_dataset('reconstruction', config_path)\n",
        "# Reconstructed videos will be saved to ./checkpoints/reconstruction/png\n",
        "vox_test_loss = reconstruction(config_path, inpainting_network, kp_detector, bg_predictor, dense_motion_network, dataset)"
      ],
      "metadata": {
        "colab": {
          "base_uri": "https://localhost:8080/"
        },
        "id": "ilhNpuzxLbYA",
        "outputId": "9338b5f4-d2e5-4830-dc71-2d3d6bc6ca16"
      },
      "execution_count": null,
      "outputs": [
        {
          "output_type": "stream",
          "name": "stdout",
          "text": [
            "None\n",
            "Use predefined train-test split.\n"
          ]
        },
        {
          "output_type": "stream",
          "name": "stderr",
          "text": [
            "100it [05:55,  3.55s/it]"
          ]
        },
        {
          "output_type": "stream",
          "name": "stdout",
          "text": [
            "\n",
            "Reconstruction L1 loss: 0.07166834\n"
          ]
        },
        {
          "output_type": "stream",
          "name": "stderr",
          "text": [
            "\n"
          ]
        }
      ]
    },
    {
      "cell_type": "code",
      "source": [
        "# Evaluate pre-trained model performance\n",
        "checkpoint_path = 'checkpoints/ted.pth.tar'\n",
        "inpainting_network, kp_detector, bg_predictor, dense_motion_network = load_model_from_checkpoint(config, checkpoint_path)\n",
        "dataset = load_dataset('reconstruction', config_path)\n",
        "# Reconstructed videos will be saved to ./checkpoints/reconstruction/png\n",
        "ted_test_loss = reconstruction(config_path, inpainting_network, kp_detector, bg_predictor, dense_motion_network, dataset)"
      ],
      "metadata": {
        "colab": {
          "base_uri": "https://localhost:8080/"
        },
        "id": "vzzBp_BHRKAO",
        "outputId": "369b0660-4462-4512-bdd9-acc4e8aa59df"
      },
      "execution_count": null,
      "outputs": [
        {
          "output_type": "stream",
          "name": "stdout",
          "text": [
            "None\n",
            "Use predefined train-test split.\n"
          ]
        },
        {
          "output_type": "stream",
          "name": "stderr",
          "text": [
            "100it [04:13,  2.53s/it]"
          ]
        },
        {
          "output_type": "stream",
          "name": "stdout",
          "text": [
            "\n",
            "Reconstruction L1 loss: 0.058726206\n"
          ]
        },
        {
          "output_type": "stream",
          "name": "stderr",
          "text": [
            "\n"
          ]
        }
      ]
    },
    {
      "cell_type": "code",
      "source": [
        "# Evaluate pre-trained model performance\n",
        "checkpoint_path = 'checkpoints/taichi.pth.tar'\n",
        "inpainting_network, kp_detector, bg_predictor, dense_motion_network = load_model_from_checkpoint(config, checkpoint_path)\n",
        "dataset = load_dataset('reconstruction', config_path)\n",
        "# Reconstructed videos will be saved to ./checkpoints/reconstruction/png\n",
        "taichi_test_loss = reconstruction(config_path, inpainting_network, kp_detector, bg_predictor, dense_motion_network, dataset)"
      ],
      "metadata": {
        "colab": {
          "base_uri": "https://localhost:8080/"
        },
        "id": "5Rz03cMJRO55",
        "outputId": "bbfa97ae-f35a-4b58-8e98-369586e23c17"
      },
      "execution_count": null,
      "outputs": [
        {
          "output_type": "stream",
          "name": "stdout",
          "text": [
            "None\n",
            "Use predefined train-test split.\n"
          ]
        },
        {
          "output_type": "stream",
          "name": "stderr",
          "text": [
            "100it [05:12,  3.13s/it]"
          ]
        },
        {
          "output_type": "stream",
          "name": "stdout",
          "text": [
            "\n",
            "Reconstruction L1 loss: 0.05116591\n"
          ]
        },
        {
          "output_type": "stream",
          "name": "stderr",
          "text": [
            "\n"
          ]
        }
      ]
    },
    {
      "cell_type": "code",
      "source": [
        "fig = plt.figure(figsize=(40, 20))\n",
        "losses = [np.mean(mgif_test_loss),np.mean(vox_test_loss),np.mean(ted_test_loss),np.mean(taichi_test_loss)]\n",
        "plt.plot(['mgif','vox','ted','taichi'], losses)\n",
        "plt.xticks(fontsize=50)\n",
        "plt.yticks(fontsize=35)\n",
        "plt.savefig(\"generalization_loss_graph\")"
      ],
      "metadata": {
        "id": "CKcEbPgVj7kz"
      },
      "execution_count": 90,
      "outputs": []
    },
    {
      "cell_type": "markdown",
      "metadata": {
        "id": "v3Nu8MW0dHga"
      },
      "source": [
        "# Visual examples of reconstructed videos"
      ]
    },
    {
      "cell_type": "code",
      "execution_count": null,
      "metadata": {
        "id": "buuCZcGKARnp"
      },
      "outputs": [],
      "source": [
        "try:\n",
        "  import imageio\n",
        "  import imageio_ffmpeg\n",
        "except:\n",
        "  !pip install imageio_ffmpeg\n",
        "import numpy as np\n",
        "import matplotlib.pyplot as plt\n",
        "import matplotlib.animation as animation\n",
        "from skimage.transform import resize\n",
        "from IPython.display import HTML\n",
        "import warnings\n",
        "import os\n",
        "\n",
        "warnings.filterwarnings(\"ignore\")\n",
        "def display(source, driving, generated=None):\n",
        "    fig = plt.figure(figsize=(8 + 4 * (generated is not None), 6))\n",
        "\n",
        "    ims = []\n",
        "    for i in range(len(driving)):\n",
        "        cols = [source]\n",
        "        cols.append(driving[i])\n",
        "        if generated is not None:\n",
        "            cols.append(generated[i])\n",
        "        im = plt.imshow(np.concatenate(cols, axis=1), animated=True)\n",
        "        plt.axis('off')\n",
        "        ims.append([im])\n",
        "\n",
        "    ani = animation.ArtistAnimation(fig, ims, interval=50, repeat_delay=1000)\n",
        "    plt.close()\n",
        "    return ani\n",
        "def preprocess( source_image_path, driving_video_path, predict_mode ):\n",
        "    source_image = imageio.imread(source_image_path)\n",
        "    reader = imageio.get_reader(driving_video_path)\n",
        "\n",
        "    source_image = resize(source_image, (pixel, pixel))[..., :3]\n",
        "\n",
        "    fps = reader.get_meta_data()['fps']\n",
        "    driving_video = []\n",
        "    try:\n",
        "        for im in reader:\n",
        "            driving_video.append(im)\n",
        "    except RuntimeError:\n",
        "        pass\n",
        "    reader.close()\n",
        "\n",
        "    driving_video = [resize(frame, (pixel, pixel))[..., :3] for frame in driving_video]\n",
        "    return source_image, driving_video, fps"
      ]
    },
    {
      "cell_type": "code",
      "execution_count": null,
      "metadata": {
        "id": "o84sOb7JCSY2"
      },
      "outputs": [],
      "source": [
        "from demo import make_animation\n",
        "from skimage import img_as_ubyte\n",
        "\n",
        "def predict( inpainting, kp_detector, dense_motion_network, avd_network, source_image, driving_video, fps ):\n",
        "  \n",
        "  if predict_mode=='relative' and find_best_frame:\n",
        "      from demo import find_best_frame as _find\n",
        "      i = _find(source_image, driving_video, device.type=='cpu')\n",
        "      print (\"Best frame: \" + str(i))\n",
        "      driving_forward = driving_video[i:]\n",
        "      driving_backward = driving_video[:(i+1)][::-1]\n",
        "      predictions_forward = make_animation(source_image, driving_forward, inpainting, kp_detector, dense_motion_network, avd_network, device = device, mode = predict_mode)\n",
        "      predictions_backward = make_animation(source_image, driving_backward, inpainting, kp_detector, dense_motion_network, avd_network, device = device, mode = predict_mode)\n",
        "      predictions = predictions_backward[::-1] + predictions_forward[1:]\n",
        "  else:\n",
        "      predictions = make_animation(source_image, driving_video, inpainting, kp_detector, dense_motion_network, avd_network, device = device, mode = predict_mode)\n",
        "\n",
        "  #save resulting video\n",
        "  imageio.mimsave(output_video_path, [img_as_ubyte(frame) for frame in predictions], fps=fps)\n",
        "  return predictions"
      ]
    },
    {
      "cell_type": "code",
      "execution_count": null,
      "metadata": {
        "id": "mCWEtfUziv_w",
        "colab": {
          "base_uri": "https://localhost:8080/",
          "height": 641
        },
        "outputId": "c56eb68e-e309-4c4d-d703-599b9a83fbcb"
      },
      "outputs": [
        {
          "output_type": "execute_result",
          "data": {
            "text/plain": [
              "<IPython.core.display.HTML object>"
            ],
            "text/html": [
              "<video width=\"800\" height=\"600\" controls autoplay loop>\n",
              "  <source type=\"video/mp4\" src=\"data:video/mp4;base64,AAAAHGZ0eXBNNFYgAAACAGlzb21pc28yYXZjMQAAAAhmcmVlAAA+9W1kYXQAAAKuBgX//6rcRem9\n",
              "5tlIt5Ys2CDZI+7veDI2NCAtIGNvcmUgMTU1IHIyOTE3IDBhODRkOTggLSBILjI2NC9NUEVHLTQg\n",
              "QVZDIGNvZGVjIC0gQ29weWxlZnQgMjAwMy0yMDE4IC0gaHR0cDovL3d3dy52aWRlb2xhbi5vcmcv\n",
              "eDI2NC5odG1sIC0gb3B0aW9uczogY2FiYWM9MSByZWY9MyBkZWJsb2NrPTE6MDowIGFuYWx5c2U9\n",
              "MHgzOjB4MTEzIG1lPWhleCBzdWJtZT03IHBzeT0xIHBzeV9yZD0xLjAwOjAuMDAgbWl4ZWRfcmVm\n",
              "PTEgbWVfcmFuZ2U9MTYgY2hyb21hX21lPTEgdHJlbGxpcz0xIDh4OGRjdD0xIGNxbT0wIGRlYWR6\n",
              "b25lPTIxLDExIGZhc3RfcHNraXA9MSBjaHJvbWFfcXBfb2Zmc2V0PS0yIHRocmVhZHM9MyBsb29r\n",
              "YWhlYWRfdGhyZWFkcz0xIHNsaWNlZF90aHJlYWRzPTAgbnI9MCBkZWNpbWF0ZT0xIGludGVybGFj\n",
              "ZWQ9MCBibHVyYXlfY29tcGF0PTAgY29uc3RyYWluZWRfaW50cmE9MCBiZnJhbWVzPTMgYl9weXJh\n",
              "bWlkPTIgYl9hZGFwdD0xIGJfYmlhcz0wIGRpcmVjdD0xIHdlaWdodGI9MSBvcGVuX2dvcD0wIHdl\n",
              "aWdodHA9MiBrZXlpbnQ9MjUwIGtleWludF9taW49MjAgc2NlbmVjdXQ9NDAgaW50cmFfcmVmcmVz\n",
              "aD0wIHJjX2xvb2thaGVhZD00MCByYz1jcmYgbWJ0cmVlPTEgY3JmPTIzLjAgcWNvbXA9MC42MCBx\n",
              "cG1pbj0wIHFwbWF4PTY5IHFwc3RlcD00IGlwX3JhdGlvPTEuNDAgYXE9MToxLjAwAIAAABsAZYiE\n",
              "ADv//vdOvwKbRZdqA5JXCvbKpCZZuVJrAfKmAAADAAADAAADAABfhzDOu0ioUDOAAAADASAAL6A0\n",
              "4FSAqQGEBMQPIETBCgVAHN//zfwJ1IBIH27GIzgUmTdo1YbgYJY5gwcAlsYwfe/clQRZ3nWsC6VV\n",
              "83CzsbIEsV+mTnfEkP/qc4Bystldw8dvh2eqQQh40Xp1uZw4FFUAPEbLxUVqMwEom8HNNZjhgd2z\n",
              "Li2rh1etcgOV0OpCldXavEFU3ca+eAe4hfhrKv1nPOfXycpgwMTdwW2ncW4qAZPHdnD4duvY5T4Q\n",
              "3gMU8oqqWUKlo4U57QXd41gJgy5moSHrtMLaA19lO1/o4LgsqD/dbRNul7Fm+/+9mF7Z1QXJKPDR\n",
              "aCQt+YqkZNnJYFO/M7g9EqyvotywUNhmnKP6GIZNjRTUDJo+8d9BRcz/J3STCDhPZZM7Y0TWMea+\n",
              "RZbmygxfLyyYIUa1p5owfH5vwAAn5zK8r3cK66979svcmR6IXu4PY+cAj4l5LdzfkcFvqsFFbMmx\n",
              "S9eRJqhKssvYx9uJtWr573r9HCKRpZzNY/vRBKYQnkSwzYeO2VOi9ktIuN2F/T1FEKnX+zMm6HsY\n",
              "QsXqGCJ+a9shGCrQZTSPB2/USMtDCSbdOjlQuvDD7TxD2cRxLM1a36kkn4jxtWzKZQoDRBPGJRWl\n",
              "sjx+PE8JA8RcLpoN0G5nozFutG44v8OuVyJms6CGtfUEOowQeVugfPNzTXqEuoPMhN22vzeSOe7u\n",
              "U+VZwuymnpWBwfBhTBquYrONbSWBGEtSJwBChyDlyE8j1q9SIvlzmZuBSD+kHEPhxR43Nygz1dVT\n",
              "Ato1y3dx284M+HUXsuiUBc6lP30j49rxg7W1aYIVshsgf42vwfhS/9gKN2rHD2H2lH/zbTkUuyew\n",
              "zn4u+xuGtVW/ncv4+pAMIpUxDrOXY13l1B0BQIJxhn0UMwbrdVIUZQP7f89tAf76yox68aYAUDs6\n",
              "ygDIsuiJqWSAAUNNcZsicR/+xFJuS3K2T3HKpID1splu6/2jovDWTzzg4bc0wVKTW7nzD4EdlX/6\n",
              "WVGwapz+KHezR4x/atYAY61CL+cL4QjmvjuJSjHVoQ+0s8EjGlLw8bKODNAwffoHa+tME7++1eVE\n",
              "szhELHby2/wGvg/AVRBJooemoLvsoqb9vZVi7dW0NO1Y0ilJAJwT+rp9RoRGkMsKb79ll6C43i3U\n",
              "fSZmwEescr4MZzJjFvOmzXeZvxWgiLjPCsp242//JCx0AHn1UeVTRaYimZ0p/ZHQEfBCxWI1nQqf\n",
              "FsYidjxeRosNTT1ZQWy2VRcVjCp86YrUtBKAdBk/vKMuX3MdGluetqyucMXHDAlXm8R7b/CTmRY6\n",
              "PgKWW7yX8VHzYb2p141hbUZFM7mOlC0tgQAHZFJneCjXgzOLxPFJl3EBQIxBPdc7NIh+BFyAFRtd\n",
              "svJKfcQNP/q/bmVTkmeX+bx6+53WuqTnsaRMZcSJKvD3/7aLkNOskZIsAQIAMx8wDUueObbRrxcG\n",
              "BSgXFRWK81ANKWe2ehwojCcM1s6aVYh/0iFUWeGufZPJiCuQxBYg5/nwFVVm0DUy3h241mUMX456\n",
              "ZzUZgVCTU5l8b9r4FNy6XCoTJOOM7k1iQI1o5PgvzRNeWFyrQiKYkbQ2W7XbSCxpbryFLVObubBi\n",
              "dQWhQjQ9pPBVMk7PNs8I9qv/ucnF020W/gRVcii0L5IOFW8I+ciUm3KBTEt4WyKv9VmZuQcxvp5p\n",
              "IiLfsHlU9pmonrziI4sR/GlJdPxkPU0HVb7S4I634yUPf9C1p2NbolG2qlezSQevFLO5SSXN1nPe\n",
              "g6uynaf/paWQh3ku5hK43B5GF05gw2XTtH2KvVCQyaHZ/4bsb2r/y0WMZjvkycXdzyqR/0oqUvpK\n",
              "TRfbXlKU3v/ptoQX05cHLC/bVcB20f1+QECrG3385jiMcpYKJqMvUIRDZKhaGNalV6DCRDNSNY+U\n",
              "OyO5VR5joktm02Ycf+tQjBbClVYAttTvPGZNLN6o/d1lLFey0a63GkB6s0kOImyBglpyuvZl6hN7\n",
              "ROQRnRBVMErsPmMdYf0+dcOE9jK5tfoEYRGNaA2QttbABABHHf6ki9sd6N30xH6E/KOkNiHn71am\n",
              "VigvPnMylC0DthCygHKk9X1zE0UOSl81FgWnl4qY+YGR7Ptz4nKyufEm3h2jXiDiJixaQnqjKVX5\n",
              "ha9GAjmnCrxeyUZr2YeRx1mSClhf+hsZdrbfcGaLTK0X8aPFiv/MnsSWedd9Y9e2EN5seSlnOe+n\n",
              "NFe65bLkixA/fksmyns4lGIfDVIAjHoTirB9o+0/Nnp4WrmJRe76ZokSFpgxGBuA/3mneJxhKkf/\n",
              "EdASMSx9HbEOUDZE23eu+74mj84g397J+ELw+jEt4BFuA91KwPXraCzsU6G9I3YnTVxjq2H1sYtZ\n",
              "ANhks2eMAFPV0HD/6g2dK/9/GI5oTnDJkLZ1X327l/DD1l4432usTxxNwrNb2n68tXHfecVtJCyF\n",
              "RyK6Ngz5uePyjkDv1CT0wPRnpKa811OufTRvw5SOrRKvzAutGmDgsTMs1bae1f0+8e+GQi6yzOGc\n",
              "90fMXym2d4f/qVgalmfYDXSiYGvHzMjxo6gLrajmQW28kByuOrOvgBGmYyAdH3sOHnf0tYKT7U7d\n",
              "VHpJVNtTCbRS8h+4VQKHuKy+NwkJ3rDQ6CXKYiljav2hJojrYpQ8Up6STSdp5tZwJ14CEBlTmvYS\n",
              "g8e8Lsb443ND5GpMpGVpsfefwv3VaL7+Wp+ycs7Ki/HOAugiqnGm9OrfbVghMevNjzwn21uqgYO1\n",
              "snzg2+EFKaGe7Gqm28TJrjE1edpsUa5fPvdvKR8Y9C8VBB7jhaqVAl9U/c/5Pj3YJjSvNbDxnxS/\n",
              "NLTLUXhJGIw+4RvxYiXbY6rFnzQM92MRNWcumRXyuluWSaWknwMqt9KcvxbkHFrUj4aIoeCb1J5L\n",
              "1+toWXQohFEcqLPwJPOrbk5yZvV0uLlowIQODp875ih/H5FU8n2iEs3N2Mbo3jEEoAEx3M/nyXtb\n",
              "1w98+d5jLBbEbYf0xOjPGLjQDhv4/pUZUNVRveUqlFywAkkqOzogEpm+DD0MJAeLA80o+gWkFTha\n",
              "vyPy6lkSfIu3HNnyqdjyxH9UvbB+js8F7Jgy8aNmAHejYxLpHjnQpAP4qpvixwzsjVrsGXv1RXS7\n",
              "ItEHrfpXhnFyGSGrnKPuW6tLkxrKeaysbhJxaBsK680yIAZEdyb0T7THxM0hYNE/olYI3Pkx4hrW\n",
              "rX0R17wqA7i41kfKwy7bUOdjgLK7Ug7ZALo/4KxAdFU1nKMTWH2Xi2bvTkKCUvMUhotdaaBOVNse\n",
              "NI9WXzj3aBZT5TTEMIvn9184sCUDquNSw8EcSW3vmVHltKpC+Xe9/xjMiV3zDBt5JEO4gsw2DPDG\n",
              "CvdlPwkTjJc+H5bCeVpXVtDQZ5j+iBPaWgwheLDwd6MfmQrbfIqNbU2q0uRn37zmswwOP/zDM9m2\n",
              "94e7Ag0+bfNk1T03WGgZDnOw4fvr5BehQ9aPom9Te5RI3m9S6HzX1trDsHBznQ3Um2YQ0eixBp3H\n",
              "XbEsSUGox8/j/VtTGh9D/YZCQ9nZk+jJUkIGbocaw+MnYcWOHAPMYUY0tZBRcu2Am5NNk3hV0jJL\n",
              "hmMqTNy3fRRLCIfrUV8kNLNbGlBJiFjH90dlAHCSwYHonl8Lzr6i2A4xBWgEtiteMKVBNOcZ0Wfy\n",
              "n1bCWxI9ApUehp1gRK9Eq83K+5V8njH6Xu1WHxj5NkqGHl7m5y8sg8hX9k4W1BPXdKPl8HwPG/D5\n",
              "6+J914KHrZkH0po5mlCZvbWhQ+8XwH7fLJxTCmisx0GITE+DtX8+uQFRjUCeSCbPAGCwiIZsBE7f\n",
              "Kbm447umMNaDhDzJ2hkUqzcStM7E59OnoHHdUKb0iVmPnrYlqW+edSJoWrJtav9Uf7h+CCiAnt49\n",
              "TalOpwcI4AMLpr0XMC78IwU/ZeEEdIwWxY7EWR2gQn1uArHlcU4a65ALRhHS7Nw19PzVV9zfwC8c\n",
              "ZGndDhRyXcCXBGpVx7Lc17jeT6tQDC7DJUrZEotoZLlef/YPgGCmRyIwYCItPkTTVEaQs7VHNp36\n",
              "TlxYYB3fXiLONLt95JzzZYzkQSg5UuF1g+HgwNPHrJZ3pJ9c6KsgyCnWCWYRd5CdcPF3YS7KIldn\n",
              "syX98G8X/tL3tV7bduySvjwfmgh7EhqIvZrWW+NbQ0gIRpFHWR76cbuKrKy41ADBSMIkHbj+cszv\n",
              "hYAAe98SgaUD+Pw/2OMgBrCfoqLtOUe3Q2yksZPGSDSvQ3hccPPTqNYD535IN++uLaXw3XTm25J3\n",
              "YX7EyHS55y8DkXOati2TwZrJKfCba3erN9n6xa12V32InT5fbhZNfOq/N4XJE9vLMhragG/kEZV5\n",
              "09OoH5/1NwFC3Icj8+tHUxlDXBIqrQwyloJX6Y9DRKn0qrSla4FjTYZDKOY9IT6+aQTDUKnagfAF\n",
              "vxZdEDjQ3mezmaEZbETDyOHZ2yE/D2dFCQD9CTuBk3xLRLUOZZw/kRKh8ORUwrJ9KIAm0uR2wtt5\n",
              "OHbbk0aBxZAKmKWoPTIvgf0LXd8ejRjqShY18nIKHOuqjADMp+RiouNzgzaucyQrzp869prOldqv\n",
              "wvHDUNLG7l0ndrxF1dsjNV6FzIPH8t/BhsUbtJdg8AzzONP0S3iSDI4Zy48usrSjChaK1pKBMJKE\n",
              "SS9EZBhcMTP0QTKzrk4qphLdkVGSQ7V8XyhbefefuqNXvsSoZG35E4jwsSoYQq9lOADSXT7WWrc4\n",
              "125cU6C2HdPPKRUbJHiYWsmxACb5nBhn0JbF5+suUYYSlruI31Qzqn5BauDgVBJPeMr++zTBMEpx\n",
              "s8DQAD5uLeNSg+ReehxjJiHSS/8NDUicRf6A/zJJAZxXw62/0WCwYUHcQSxB2jA9ICb16dc4ikYV\n",
              "ogGXL2KcvgM+adBafCYwk4tBHdz01z4jkkY6P9WkkwRwrNNp+BJHtlYPwwllTqy+HCAx5WxGnsoq\n",
              "L1TA0L0gyanP6zxkTP7npBYft/c644BC7EZaNL6e8kFciyD9oxvYTdaDwc48UisV+yBW4tFfpUeA\n",
              "4bOZ0Luj9HwaQqKTUBEi7PnAoIFkJu5y9a4zk4QGmaAKogFBmFgYStIjqoCfBT8mvBY4YvYBajix\n",
              "BwBV2iHdu6OpnLBAVNrdCoUZXFIA7xtnURmxZnRJOUcY6+cs5po1GLtkRKOBNEeF039jLQ6iVAl3\n",
              "m/6Rdu+km97+8EZyFmBp2gBvo2jG3cY4zE4GVVhdnwUu4BhHKl0HWWZnydQRU9ddOep16NPoS09S\n",
              "/LlvaipNlyYuL9Wquv9eFACjb5OFMZ6/KviptyYHKRYoVGJ4TwgwCIcDWxW4yw31kwtT0EQs9hUQ\n",
              "fnMAK+7nA1iROjzSwzwqwFVA/w4fqA/AekeQbjB+fm+rMSI4QMq7I2IcAgE+s+RWTOZAfIQGmzd/\n",
              "4S6eQ411YkSwYZj/Z82EV2y67vQHwbX4gLhdEA2XZ8MrMELf+zrxX+PSSn0HNi3uIiSDlbjObbXU\n",
              "/9tP9rtZo8AlGHJu6+k87luCXUT82K+0p0r6ApELWTvc81bAfY0A281gGQ5CrPTxNjBcKNk+RyEv\n",
              "txR6paV7V22AxQdBA/vxoEdBvrzG7yqaR02OJngXjbv+2U1k6ElgZRc204UYGB0yLTga+y/V3CzX\n",
              "qBN64p4epFO1CNF5swfnJC7VLKVqVGcPyqhgPc8DhZ6esKqdo9pJOvs+BqTPwVSJjW4D1Uey7gU8\n",
              "kHgcCKlEDaCynAGSxpuvpDh6yk4Mwf0h9hNgVAuZOhHykudXmzS6b0pzf7TAUMgXrD/hgwQkg3bi\n",
              "bCkeANlUHfipAgeHlKyfKxo+GhwSpTlHZJCruFzNY83whYYmvW3b5lqxtcbJD+qXe8U0xJakZ6b3\n",
              "03kWF+f4s7BRjsJK2q+pShAd/KfuBElM1eomr3+8IXl7sux3RAD5OlVG4ck+Dqi9d/nzgGVohWt9\n",
              "TQCR1p/33S91kZZZAlcquCncz97pqOrc3YcIbArqIavcxniBT0QtMpbB0fRE4zViGQ9PjaqZYwyh\n",
              "vo1NYv9p+2aEeK4DXCf9IEFzJBRs+wImT2CApy7koqHg8gpLYpRUztvf7wcahkgUXinAUV0Yse2o\n",
              "QT1t0doyO2hk1T6H7dMncFERR4jOH2XeeVFKB3HcrIqyt3Peg8yfxA5dLx4py1L8wTKT2YGjGpFu\n",
              "DbrtbI+/i75feTxnnkZeMBJgS7H4aAT9hg59q4NNsI9rqchNgsdNoof1XZ4JRkIeumgHLhEAFjYg\n",
              "2LTKCQ0Fk/GejIePdLVrU2lf17KyiStIdrL+07rcn7xXfbEqk0QsPUTBgjJU3rY6BjK/M3ycyttt\n",
              "09+BYAULPfx7UEqPhg0fp862llYZkPuDrwoPAW+Fjfbc5urKK/HkLJBJvTiOddJ//lpWWefy0IoX\n",
              "XscreWouqoD1fR1OqRk/aoYC9csLSZc2YlTR127LvYRyWy+GNUrY0YCKpxYjnu7uBUeUrWrsQJa8\n",
              "xlghdW0Cd95QZMJvSdrspxAWCvVUvCyy+ULk7RN5h1eygKsbkF2HIwHgMalCKMsWqnJEzE/KOhTf\n",
              "42ZpzsUCO7cQwzhLW9oIOrQMb1JrpR26FPgu/eskYPRrb8cRuQdOb/VRmT75XzSJvUfl1iJ0Mdx5\n",
              "BOwgHv/7kTE6q4rvUPkjJ2ldUfxXrcP8i2I3/UNNKvoedQh6UCuq1Xj1wdlDMzIyV9ljRCqmqVKF\n",
              "qx9bw209AcleGkyvGuotoX8Gca/PYQwpc/SGsfE1fyrDbgH6e4lczdVo51TnnusIJ0stU9MUZxqm\n",
              "cn2EjlYsyjntK6laLAxX4z5rCKQW7DYrpYhzoE7KWFKX9sSSOlMOxF7AzGdSZuv65mpm6yWg3MVc\n",
              "MsM5jzD2JYph+z5Y3+MXlAl1PIMSbpFRt4RHKIfGHAT7dBkEj6KQmmKGbuUv421fIWWXEiF0Ak4A\n",
              "sg5e6w6ZCV825mfJZaxjP20NZhQNto8adt2kk5MZvHR1j/Jvi+ZuxewG+fUhH1wTFXqsuk//WnQN\n",
              "kVSNnv2B4BskFImrNxLaWlIkhHFA5RAeO6xhdTKlQmh6LckBMrtaStJ5hJbyiu/sHly3ZBTcA/3r\n",
              "zyq0PtRbfch02XbvFXv10d4N3hz91+5WeGKhM8spAkh3lWZV1GxQDwTw/oOQ6faAgELljkQhxgMm\n",
              "DV/tI2fI9z4Mw9u8X/IatCux4vpK/hjXMfR9+A7hMepB8aWR3lbLBEsYPIiFzxFeo0D//47dzWt1\n",
              "Obq8+6Ux/luQndG5+3/zpoKcg/2MqlYHpvxv2qvdF302yPQP2Hgv8Z3901VWXq9woCOQgJKzIwMn\n",
              "1T1c7tA4Mm+3QdYiK5tjRGUzJZf0P/NDzACYiAA/KE9yoxTjBtVkPOrHZH7JDXh4kka8VKXLVZKG\n",
              "TFfYJEgTy+mpSvQ774tEZGPki4Ris4v4HE1FCE+rLtxYI+4UDPBeZxI7dOcIXedMJz46w5580dU0\n",
              "8O8AVpAbJ3UP9BqXg6UuH+MA4lzHXws/AhPHaW/xLVhM1RrGsv4eckY1UHtaNsx8XrjhvODl1lp/\n",
              "gF9Y4iSjHVxc8Ue8Tnpg7uohGfzNl4AQL7TYSC+2ncmwBDs3NGPE1YKL+4IDS5WVaFIqShbSH/mP\n",
              "JfQM5WQxiIfQ4OgvVvt4pwVHDGWCRFnVI3PL9Sc9Hj8/JKj0mRBMWWSODtc4iLs/gdAgxPEafPFZ\n",
              "cDWW4HoMM6NiNXN7oQC/7b3+1y/HXsK2I+XY+13VPiWYrJO2CWy1PvoV9JC0kcIeEAdLzNG2UOGL\n",
              "RiogEIIB8LYhT34Py82XHwNZkhsry9FPrzPr+PJJAEAafg3QvINdsNShQhB+Q1kaOpdWBXqVf0s0\n",
              "5F4M7ilpAktO0VVshhRBPqaKsJxC1EVEWX+DvmjN4TFNBvt4mMuRfwGecfr8K589ujrXoaJYA2bC\n",
              "JiybdZVA8z0MQ4Px8tOkxoajbXIqmu9cOQR8cGfaq7XBq2j/nkBFKkLddWCyv7s4EzGZJ3gdB3F7\n",
              "nzhm4FRF+p2lvA1u9FM7d57NBZDrtaDj1nIxrhTVggKvEccEZkzMRROA5AAS0rR6KgM5qKTmiRF8\n",
              "F7dIzvnBUMcL40Bn+bq5twmxDEmjhr8Cthj3GwKrzPMYb9e188f+bMQP/0eB/7sp4kS9N1kj2MvQ\n",
              "dursFRWD5um735wVXfj0y/QTYT34RdpAV8T+cAOOnRVEZ+jnJbZMG+wUhMsxbw8BZHdgrvtZNb8H\n",
              "2j51IJYtv6t8/HF6uhEla5x/mDkI83d81XZZLk8AbOS05swM6585zzo7SH6rWwWylaCVXy9j4Hjy\n",
              "nphAjeBln5llsDIlrpG2fAu1r2PAp1ZalsPV08hswWN65x0IDabC4/0pVEXCvLQzM4i5pw0bMTXH\n",
              "faDTrKrkCxfEWRHy778r3SoD5u7iQXcB+nCOjBowVicVjfjq/RuGAuiJEf8GjZDo9BpAnc2suqzD\n",
              "ALuF82EK+kRU0ohYOFosHclApkYmT8JlPkXrYQw0e+GMouil3/nv/GOKIDX+1mqvBq60Ny9XV7Nk\n",
              "bmWy5u6WlDFg5eUQiMbLBa40K4SbIYmjp+gNgBvoRe7sXMvxvfV1nXuXJgqKYi0ZgnnulTr3gDND\n",
              "RIgjD6mQRk5d6MUKQ0d+M7mv0/XHyxRT4CN3YQwedNVDIIrt6VZl7E0ihYs9P001PGEkvSVDzpEV\n",
              "vfGC+ZV2DcKIHrhBlYpL57ptuv8AC9RqiGa30GNFATnHuNgshYygn5uFZ4Y7i90jEXZOxL87PE5R\n",
              "mWfOhrEyJe8mIee67ZcyIMpxJwc9P8ONCFK2vWXqdy4Vea9x0Y7YIRQErGGdA5FVjFxj6xtV9UAC\n",
              "E5S4vkF4PYSVhWwgBeb6qp1Zrh8kW9uMHNN5Hb6f5L/rZbf+XSMmbOaN3TfzvDCyGzHtdUTIzdvQ\n",
              "HTy+/QKYIppESp7/2KgksXEdZJ/rMbYVWoOcJyEqXN9utFtVqTBc3LfclRbAJ0o7b8w6tbAZPRKn\n",
              "a3CCESf1OdQpfMeIOzbDVtsv/jDtyoyS8wkbgc4TNmy8E2cMD5VjqQ2RpHOycDQ4GBQi47VVz2PF\n",
              "x+AS2UFNnb+bHBHSBdydNOjrNABysB936gJElsUAAAMAAAMAAAMAAAMAAAMAAAMAAAMAAAMAAAMA\n",
              "AAMAAAMAAAMAAKiBAAAGWUGaJGxDf/6nhAAAAwADNzFlHtyp4nPMmMAHOXJfp4LijHBYcoyMd3dY\n",
              "1MA3RbfRtm1oHr7NeXS8RLtb7aD/Daz05bi5ZONaZCVlOGzWaiLiOdOWTXjpysvonjBD/f9ChpsL\n",
              "+DYKuzW4EEaTNfQozZHUTAl+VukJL7A3GbARJ7jLfPrO3Hc26TIbfUlIUwIpIvBzJDyrRLL6KZkr\n",
              "vDyrLkPEW7tTz65iDddkVYNshJ5/tK96dv4HfMBXIddOecSNyFnmsOYnqnCQVcvxPBIW4TrBGIKD\n",
              "J+l/F+1sE3+DMzrWDiWbNbgk1EsUQhLG3drH4hkXgAemtFtO9bvc/6mF4PkxBqxFb72W7ay3JGme\n",
              "rIGlmHkL6tOGe5OIXGkQquQhS2IQJuKaStDPFrmBliGday/c0Z2rnJdrApfbADWAgSVbxIzUe5Ds\n",
              "SGvoI7yfRrpWcOYb2iuRvnnwpuQg4a5Yd12LJEXp2281nM94GGa20mz+XaNLOT5aGEy3fa8vD1Rn\n",
              "1kkEEbzoyXBrlb91F0dUhKfhdcc4nWTH1p3ZfsZOJqET88dywxMyu2c1iYlQ81b+TXOCzo7/9Zl+\n",
              "cBSnSMPLoFzXIZ/cAnNTV6/bnl+w0GbH8GL0LPduSx4QcFCeG/7PRIQAwYN8QkxqhQ/yk1Y+vXE8\n",
              "9ICMIZJyvEX8dGed6HEf6fHedmdMkJuBWDMcXRFX8WXDmriOh1st644aLGvqheIQnWtnGj3Yeedi\n",
              "hrJ0OQ7ToSTcjAvVBMY5Ta0RxXpzZT1W4icyo/Qi+wAKOYnlTuVD3CAyVHArYACx5D6B+UmHlHiP\n",
              "6HQPOHkWoCN34R9qcU98ilHJ+lX8MHGTVDH9uX8uRAeCjLVvquesB66iXSUwLb8mkloecIpHWvHS\n",
              "MUcq6iV+NOoGDkJIfhUwwYOo/N1rVQGBle9keXsgLVtmWCtt3HlVQOOKe1is1UFk5jIA+9ZrKt3d\n",
              "jsRiu7RWTMK7BM5jj+lF9dPbNHLOFwHzQ3RsvzoNcE4qrsRzSNARDTZcXsQiN5E+efOcUTa28M8Q\n",
              "lrV38QDHtDox/sHWSUplGshGhL+sSb9kQD+Em+9dbv0TS2MhSuom7PvXIoW/bxOL+cpQhfT5euFr\n",
              "REd7LUnrENw4JI3ZwMMrMEe/bSWds4YG/HmZlPhPTXFMXnyrDQ59PFhm8iuVg68lh3FUbF5OjxP7\n",
              "OxkPabPP0KPVWRFuSxgLUlzmOwss0LXrn+JA8JpC17o8hunnO3ASVsuUDTy5lWopGJVddgPTu9yz\n",
              "RkBSldxxEAQg+23HLq9ywTB83dm0EdjNOcL54dOmewshYFbJ184abiMm3/6mABV52KZAc+WwZv1R\n",
              "mRTbuEhbRNV1n8Q5MSDbaiNcB0e2BKTrVW1KP4CnbSPQioEykJAZrB/9r4m7SNsz6pR2bXs2bkyW\n",
              "y5JyZReUpVNR09seKlaDxC7pH9gzow9TFEeGk9N+H15e6UjCkO3JTkgu+31N6QU+AxhTb/wtXtcg\n",
              "m+p6l379ELT//OhKrvPbqG6mEV/Mkwegod49SzBlhmHiwW1co6sTOpPVvFvhA1XtiS1oHx0u7LEk\n",
              "bEuw/cq0OaRQBhziYeHHFjV7N8EfiGbkLpvU0h8fO0ur5C5TO04L+cz4T/4DlNv9PHoSdIlmdhTf\n",
              "HhjnLchhqvRjYJVNwsQubDf379Xe3rgb4J9qmwfQC+sA6oyrRN/FUZcepW+Cs2dq0TdIsw1RqOau\n",
              "4hzM3+KWpY91b2JrEkWIt7AzGd/bUJ252aL61zap6/jGpnK+0B3vFxcmU+gOchpbBDXyd42Qe3Wn\n",
              "/7cmxrHNBL7A+Jj3KW7plHPxz1bVdLeZuI+UwROEj63sY8cqR5wpauBSrSBWwpOTsE3CnfhNM6Ay\n",
              "hlmJBYvidbuOwDF0BtbnH6iBQNbeF0YjePvt1jes7XmIsunu7yRSoEJb0NOHD0Us8TZA9/Tyrmc4\n",
              "opBwV/EJNXWfq6OAcm2qnXS4b0i5fJMojsAN3sYRrRsXziC7sGdaBSIPxt17qcyhxR6q/Yo9JfG+\n",
              "NXvVCL5rsbr1BBStpsvj1gcl7LP8BV5cg/vaRz0cIpwa10JHxX8z2Cr2TD4n/tsYSpDFQma7auFg\n",
              "4k7UOKbs+2EIyBk035xK9pwnXV8z+nL8AWWrrollSxnkInoR3h+d6eU3zkTwAAAFAkGeQniGfwAA\n",
              "AwABYkBvD5gIAIU8Tr8PqrExdlbe2fbBDEiyNGQ7DoDX6eBILBohnZxbdwVvUFlMnbqSml/MWuiy\n",
              "ODoQRgJUkyxFjTe+8AhCR5dx6ViNlHI+NBAS+l/z+/lpfpXVj6/Uauh/juOhyW+F7lr5UrfaXKBG\n",
              "z0p6hnB+9aGUgXDpPvvkdcRhUJ/C9LfJmeZEe6yK+piN5W17s65g2rPqwyaqrtcBq3/rZ+haja1D\n",
              "V+vkLgnsOgGip300MI2Yc+DlM8W98AeM3qgl7chtVLpJVAPdMBj4bq3xjto6drFL+pNSYi5TXa4d\n",
              "oIEdBUHghU326oV16Nk0bziryJ3s9z7GsRAxbZ/yBP1WtDbr4G35UiFZW33Tj9yldVRml2+A9Op4\n",
              "DwCtpobYmZNdsBMTVaSByiC2cwMUaVbysbfAFwV60nEWlQzujtwE8hdjo0Nr3mxsLxcskhi/OEcV\n",
              "bsmKQgGXXR281wAdNI8PxW7hsvbxGVfUSO4kLeM3epXkr0hzkYdD3JWxvSsmpuvHssryCXO3qmRx\n",
              "B9qU0FyqxuwQiltSD2gs5lF0PQUKVauXdIXF7lnjZz4szENopLDKQI0Wa5+bM1f9uWU1D5LFMh6+\n",
              "O14Ps8sFQF1ecC7sOxGLD3NABJmEwWKt6vAloTODS0GFrM6mpToqprHnqoGnOZviUlXSCb3/zfoM\n",
              "pJe9eJ2ggTlUpLlWB6VDIr0JYgcgTPUMc7WXAa775+t2OahRel8HRGWq61x2/1kiqzNo8/znJ4y5\n",
              "ZUOqr/Ud1pxL9CI3HF1tbp7MrVVrbw6Q5xvHr5k1KTdrAQMirvYRUdYEkVHPkmVp/jFmYGK+GAn/\n",
              "NEfkrW/cptwVOhzB1GMtzPazDTHXUT/q0+vdjSisr/9djl5EzRrf7jo+iQ9ez823UeGIWXfLBVrj\n",
              "gyhkGml2u3ME9Ou37fyxJ/tjuWRRnS+I3IBi59EnmQDaXW56k5R52cqAhhGx18k9vfBWby9KODYd\n",
              "8zbtPHDrf/1GuxVRVBBurbYp6EIvfzLrwA1eHWRfAQdLlltDNNWL7n4TPN/Z6VSXIfTCExtYTBtW\n",
              "2uDwpOe5M5rYC2zkrOiR6LzmXrgUPNMgtDe4Ha71hWg5xXSeqeQeQhL/SynR/LVLBPPWabMXhc2p\n",
              "u8v9itLOqCHXWmHL+EnuAQcJwuZKvhYW2661Ij9p1mepglNOTew8F5QFQEOebkhhD/SuCJXpW5UF\n",
              "WkaLSrhnL42W6Y32VOxYHTSdM6nU3SWdNfSGNOEEP35/Cu8EcUw2rL14KaRVguEw26yzuIhRD5Su\n",
              "gtRhO1E+0FTtIAAcqP2dBRU+oChD0xiflDEsIqP2khdRVb+j+pDiteQifWOPxwFPJx+DJu+qZdKH\n",
              "4EfinJwi9d10m25EoKEjRgiJ9vovKjx/3Rc6gBNksoRfm+BrysdZsR1tZQq0hoz58A8tQJCrXMwl\n",
              "9ER4JKJponbRx2CuyPOefHgzCHIr0xfb4iWvMdn8JYPKXTLb7V3KmA+0vwomEVzwEbjr9K9YxmHQ\n",
              "qxvJFfM+uJ3epycFFOnbzU1TVAybvalgBw2/1f6TKA54jiV0rPv0XXe3x2SMDTWQbcEZuFmwnsa8\n",
              "8i5SHboFjdBHGLHULOdfwVbOVErImhCHq6z8aBMKa+uToCIKaS0lJSvoCNtxp4J3iEzRFSqEz/+7\n",
              "6mopz7a2f9J1WGMAAAMAggITuYkAAARtAZ5hdEK/AAADAAKMbDo77BrRAFa2lfLON5yOiVVsusH+\n",
              "x/9KQUcZWOaQKvoKZbUpo+sDLQpXZaPFmyCG5JaNgpyrEeh//p7ldai3b7v8zMnSAGXRlFc9kn3z\n",
              "sC3C7L+SLMB5P4uuH7KAK63ZGzixxvwxDEWeIav/IuNy4ZV+9rcMWDQ6RdDMIUwfcXJ9nwNdNNpT\n",
              "YoJXBYijNFHPQPGL5tmR2FfUQ9vSnyBSiHkfxj/X1JuLv56oauKA/daAm8o+BLcU/V7kquLpFS+U\n",
              "CuvagSdHehU+9PJ4ncAGneBcrw19Uh25nCQsJxknxHTg/5HmNOO4hQ5jtv8XoLU56h3NEXgT5XLs\n",
              "TLkOfWSpm6IUIW2Qn2IPtKVIpfkCiqi7FR+wITMDuADLF9L7JK78HsCKx0JGjfWJuBSy/6IfWdHX\n",
              "khBBhKAZJjcLJeSaSw7cTSTt0jJnR5Ydv73+3dDOgbshKJ8YRyW4NK3olHHBs0R7qOWu/0u9qUHs\n",
              "g4Hyeyx3X/DDc5rK3MH/HgZZ3nqHRpZq9AFf3tU55h3GReT5GraeHowxCqI8wjG1XGZQuC4Ru/sr\n",
              "YaALSQmVbN2sMMGpImh2Kxdp1JjPN/60MpwM4nA/FQIjHc4coAvoFD89Xp96Ltlj/ywTv2ykFBTG\n",
              "aGIQfndWac71ptTfI83/0J+UZ6lZGwwRD0mdkJAeF0I/nAK3qBcI1G/hA70RL1JjxJrE9mokMA5u\n",
              "tMKAA4/5XkVs7obgyNUzWx1AOtQPOL3hcaSLS39TZ4xhmG2NW9ueeU13yX1PX48YP/tIQ0vNp95R\n",
              "HB3y+f9mfF1pkHAwXE50eAR6dcCXMffDCjCqrfgVlEJLwYSQL5hznPJWUPL67rl9Zbnkg1dvtKio\n",
              "mOj/+9Ih2RXYEnh65r1ODTe37ynXUaoh1TM5QrCb3K5QxuYOKijX2uvvMjary8acT1UlrV0Q0Qw5\n",
              "1EMs8beGVKVErqta+lLYBxvzoN17czghfO6loESrm3IEwg81qByDyMF6jb6QoJbgab6xBnNC53lv\n",
              "Bgb0Z88z0HYdfyCgCkLSFtobxpGg1+9H5oQuiZmXCAOWbTM/0Z8xzN5V2jtOA+idKtATlE/dvhYj\n",
              "QFR1Ql5k1SZCOMRv/sbx70yeXEQ/UC3B814BCoo0RRXhtUqrzUjC00b69EMGvXECDh3tjSksSP/Y\n",
              "BCVP/bXW/mKDoAuLriOn6oB6kdS16Y+xPLMR3uVJgK2w5ActHK0caF6OJXzDaK6l33on6I9HaA4Z\n",
              "XVkD1xnj+slgmIcspEnetWWt6umqWUCQeNYFDopABL36Rlv1JFpCbLljAHYEWY1FKjzpgPxA95pr\n",
              "Bz0IRLmXG7dOuwTUhhRLrrPpFMdfsJyfH4A/GdWxFhDY4m0PpORXUfWQIN+m0j+UKmqEbPZ2RO6P\n",
              "mXMfX/SL6r4nyzW5qRHGms9mbJiAjrc8Pf75Zzn1k5I7LSEmHIfLYq72Z4etpmHW+ecpMVk30PcE\n",
              "r4b480xYB2WaoLh+3wAAakAAAARjAZ5jakK/AAADAAKhzeMkfvnMLrjKCFTFh8RZeSjx2Xpyf94l\n",
              "iSIHGYR+YPIFIE/xV9EZph+I8dQ1SPL6GBL1G6Knigxnh5JdDHJVgl7UMM0SNNQIsjnSSBDo6zsx\n",
              "g2S+7yoDxVgPZ/cYgrFopnlR+Tpp5bKDTRYAdydX7nWBrDVZOBqg0Gz4nWvYNPQsr8q9k6K1jYRq\n",
              "DQRPwiCJv//9hr2xALH6rKp2XMwLIbHZgqg53/NhcIwbLrhl3DQmrqOSBCOjUguEKS90z3GZLs4W\n",
              "G/XzZE/3Kh0xY5lo7OgIEK6NOPo7uM6ez8cVF/BQxNMsBbEYFx4jLzuVqjS3EPgCkV3xMhiyYWad\n",
              "Yfiga6XZMJ0z+7bbv5fQvJPXYGQmLhAfHwGAna/gXRHnFVtfIK2t1wgyTVgTrtBD2l6zdUjZQoAF\n",
              "oHZr3LbhoSvIDOghWneYphJLGlA+h7aFKlPT6ofvGw9RunLllU24gQQ3uQvfduJVxYCOvr+ZDdX6\n",
              "ALay1qv/9Im/TMphglFAU23wfJnaLQcvXWp8I9NSNblFVhEnIvSSX//A0OP41EfSUJqPpf4E4U0d\n",
              "5/WHM6g2aKAZ9Ch+ctWawMMgxF7bN56dKfKCzV+zUJ4Cc8/8D+rrnT3hOfJe6sj+9DMF5LslQ2B5\n",
              "yqdRuY3OKFdAmLQmNnsIKgqScqevlXHCLss87yemqP0cvTxfO+NhwtKGl10AirE9br7mUdbavCCv\n",
              "+6/SMNUEcyaATeJh1Lmf/sp5tNsKPfPm53Ud3+QnSfV1L+9zl692Ik9WYeFW2cXud+cHAoo2Tswb\n",
              "ZYqmfKnsK5wRan0QokFWbs806VExnXEr+WwiKrbbZhsSr43rplYBkLEKSGKJEpd8uNqPhBJiUc7w\n",
              "Kb9hln77Y0FBNqmxXiAmIpzO0C3q89DNyX1CrP2YDbUVeh9Up7D5YQqCBp2g6vVCLNA9h86RRPS+\n",
              "kPwVPGhS0GBMC6a7IGhodIsoqy6TWugb1bp2I7iP+5eO2rIiez9eRRU5l4rYJAsORKcn7reIH2ql\n",
              "hc8/cs/5DAtZVoqg3PW29UBuCCW0UsXAez6Hh++QbuRdWrURCcCDXcYT7oX/LzhrrSbTFAU+/WNz\n",
              "ZNltmUvRcdMQRUsxFxlbsk+7ZcoBvb8kSs9PhBGgdrEMFd8C2SZC/UFenaidkcvLKUZZi1eCq5/P\n",
              "w0epgPzoHGd0+41vre8Ebme5IkCFhAxZAqKOLUdpRNbqJxu0fP+Okyvmr8s69ZDoMSRBvNYKAFw6\n",
              "oBaTqnD7a27u6/As1tt2xwDzxdyZ6eY92jxAOzhR1FXi3EoWADgr5BauuACZk2kqB6P1IMe9XYhn\n",
              "PzApaYQRT1IgxvL/NBNCDPThbcjD4npK0gd2WFC+RTwDgf+N+JHFgGCpBgyzuKonqwxY86WviL5E\n",
              "TyMx1SraG0HZVgqnsDLMfx+fi9AgABXRbLwRFjkFdn8rZzgfducbf4UfS9LyXGi6USMZqEck1G8w\n",
              "AABWwQAABJlBmmdJqEFomUwIV//+OEAAAAMAL5/ORkkxEViAKB5kuqEPGKMDKm2wc7H8slpNmblI\n",
              "u20nW0fvMIQyZT0H5dw/6qFGRqwoN42JEosEpz4SeJ437OvbpkYZaIgj4r6eg6lw9xQwVTy1mimQ\n",
              "mlOSAY56GFsWAhdxav/V5fIh4t4NJ2odHUmjAjhclLcOYkpAo2gPkw3hn04/bjl3DRilr6aXy3LL\n",
              "NHG6Ezx0T0YyjCzrt8g0GX5xCem/05d1+0kp6GpmB37CwOCs5QpJihKHOpN3uU+6EVIMNeCydKhE\n",
              "hM6Im4x9TqfFzFUHy1RphYUv358kSyjW666G/115V+pnmY7HWozTr5XGj4uqCNtV3uWg/eOIrwWL\n",
              "hZJB6v+say1yhYNqodoplBZT/3qrGJlE2q+7wrotm0BanOzUES3w7lRM9I3e6gel9wymlkn9B/hW\n",
              "RPCS1k4zpnYtZbRe+3IjmHK2ePfKWmTKad/1Jg0Dc3bDqpJSWyYIOD0aZJJ5OZNS8TDLsNypJMbT\n",
              "27rJBEfyuIiYOZBumnv6Q+sIe8NKK9E+gBVjuIqWLuzM7Pmfi5DivwRAgkPD+GWVfOKGNYJsF3Jo\n",
              "1Ki3Y05H+iCYj9vS2/iGaqQqk/gaXrtYMfgh9ET0U2K3GgI1qToQgKzhCKr/KKd92d6rRdwDxLjq\n",
              "odRD9LE2kvAkMXP370wMSfGuccsuzQvIuVEJA7Soy/9fsYdq/iC37J3ETCRRnd8FInOTBfC5k4SB\n",
              "buRfA0eZpjStPoO9m7g2Sstt30kDQSfx9wATbCDnJMzDF8lCXUY+/YfGTOZXzz/LqPbveAxNq/18\n",
              "RodiXkWG0y/Im0o3F6dD2QYDJgSF5ATKiPyG3lAhx6b98cqLkxzHVz7Z3BjP2IGU4FMHiivW0MVU\n",
              "isnCmsIcukWB7SuKu+YgGLJKDYcD5Vm3nybeizPsYmw0UfoAWLL355TabWYMavzqHBtQ86k2MJz6\n",
              "Mu7v6ubITiS7CbdGbkebasauIVsdg9uHwqJDQE58S9EFv1Df1HB2h53ZIg0vP9KD4r7Wc2KMwpiL\n",
              "IRe5xzlIGqM+wDZLVgRmdzKwmLlNygBwg7KXERl95BLwMPUdIjTYOwYzJJM0GcMosU2jrKwk7h0E\n",
              "JbRSD+ymDuF3xkDtnnFDS+Waz/J/j4Hbk0j6UeapjSXV4LBTzxNcS3Lj1A2S7n3H8had1NITzTCy\n",
              "qz+/qqD1gLJCz2nDS1ZE6YQOrBmxJcNQivqW/Rdk51ryz7Cw5+eba96+QfWgG9sGd419PdPuAWQE\n",
              "7H/1vfQsHK1EZBDD1Lo3CZhWIpJVEeJ1Ptu/rKPde1vPDFhv4PTsJWKEJwKjigkNdjxvMlbQveuP\n",
              "QZv3XkDD/t3uWD7a1ZVp6f1lvTp7rP0zyPv0KIz9sxPFQxVujRT7KowlTiQ4MDdjJlynJxnuJMwr\n",
              "lZGyLXLy6j3BavVNOPvPdxH4lIK2niDFayRlQD1IvyoeNFKmXoO3gJ7BBvJ+nhOUfn7voQJBW6T5\n",
              "t/AI3X6ADCYFN+W48o7L2V7f/XflMCtPp8eYjftRVhNIhYDcYfFC5BJAACPhAAAEckGehUURLC//\n",
              "AAADAAHU5AkDaVLhVT7ABD9Fw9BK6Mi7u++zYVnvDTahgoNogPJne15Gs4dLl1/oCT6krs7a+I1X\n",
              "XZRQ3X8dbOOlrSi2hourI9Wiw5fkPQnEHlJMOw1xYX88XnyltJ99pGwrKdvOGptoY12rWRDbdNu4\n",
              "a+fm2WoRA+pSR/ZS+H10nYmTHIGlHoH7vrZcr0jyS0GtG7/Krq6uS2aFe070S+DQX3zdrk7qSV+q\n",
              "uMGezxm/SUL+DOCGbLiaCfyy5ePgKqWuYLCG64WxoODEJrnFDeXokDcw+0gvqrfLXO6pg/fS8keu\n",
              "V3nb0bz6rg/3ou1l8nroQfe6cD7djCmLNZDycu/MDisfYFT3DHlc2/1kKItAt8LrMuFBXP59kFyz\n",
              "VmMLxXW46r27Bwgn+LeaDwHd/wocsxSKibtVwarDovmbxOuxKL2rXF+VkdRJCZkE0hKfPi+E8zeU\n",
              "6IWEF12ysAnOjEWed8F9dY4mjV9KQsI48T2eOI45teOglwbnZKoBfv1kMtkIb+6M17FBjOr/EC/X\n",
              "XW8AObK8tlJu7g7+sK3FOMAAAlIXg6P7PQHFNJL3mxPiLZkeSPDGGyCc+gmMtthdJqeGpfIz+jc1\n",
              "Pb1E+rULktkR9qq9Wbu/goxycqTu8nUcbZtqdLZf0fjVVuRuig7NOtu+y+dBIeVfH3og2YGDZCti\n",
              "vOuJOmerrqeBYFVC6EdRNIoxq+lqB30nk1nGyLqqh6DKlcgKgTem2zARW6ypGgvNcHT0179Ejum9\n",
              "Eft/UJuUSrdgmVzdIi7hTUA4lGy0ISijqotsTqq3jj7rLC2tQ7PqGYZnBLzTP/KQ7bpegmzoMRLO\n",
              "JQHYYmaI0v32pRvTFRkR4zjvIvyK4mBN8McMUb7bWMMUG0Y3SbQC9AdsxjTaGN03gCjjOVVVmx3k\n",
              "5TvngrsyrnykRnKU04lj2ulLYy32UHVZcK9eqXn/4TWjGa4NJBTN6DYdbkP/XTqagcS2N6e6csrw\n",
              "la0DUM9vtN9dg26I38CsGxYq5oYvWn6cKjlgHtTUWxvtvw+Axg746q03laUtwhmqIIqTE5faylnf\n",
              "ZRq4Qb1lQJkqyOdNL+AqOiOTn9ES59Zu9s2fsd7xuLukJl169UnwNjd+dbyrdBlRExMj3emszNlv\n",
              "h+SD9vkWjOOCfZrqDxWwwuNAtV1aPGDZy7c5rAteeg2sRSr1PcAqTMCK28TONPn6mI/Om8dTbEmT\n",
              "4c3a4krm0MXP5G1uBi3gEYx6yWB4v4OsMBlmraFIRuXl0MMSkExNl1RVbTKSXkPAf9nbKaR4Vevi\n",
              "/yBL6aC+L5ap9mGZmQJAVaST+SwBINn00/Gb4zZVdFcX4uwePVFdkInSSoa0T0UB2DN1rlxPdjkk\n",
              "Fy0ZjOs9hqF8MEFOnyEBAz0J4sndfwgiIkDoiJsUfHVvSd02g2lsuV8byhb9xE3ut8uGwAhI0fwG\n",
              "ROe4+xlIHyjVr+GXazB2y1yTA5sJmVr8NXSLRiWC7Fuidzu1MnuY9YDvAQAAHzEAAAPlAZ6makK/\n",
              "AAADAAKg9DdRAPpxJsAl1X9D9zK3UnAg1S9xQlOAlVUkL1Um1hTBajo/5XK+mxyU8+999MENc8kw\n",
              "ei+mF4RAtw2PmC1SXw/4qbGyCsBUokP2vv3uGSUfbn1A3aEijDE3W8Kn/8xUtaBxf05hFzKKJwWf\n",
              "EpWdk3ypw7ZmrrDTN/6j0beX3sLfWbdLGblEbtmkounYvq80Q+wevuPKOcDhiSbRdYKH7yJK/MYK\n",
              "//d0hHKuAxybUDyNceveXGUsS9wcSqTn/gTV/T93DZcIQTdTeBEbKhK4VB6IYhi7HJTa/STbUh27\n",
              "FD0aBGtc3HWV5s3mmFykS3ZeNK84gQxn36JtiuEGFj7RkfjjRVAWGVl5Z/lly93faTthhj9eZnab\n",
              "GkstH37BkZZ1Qx0+WxMhdmK4Pp6AKy1rQKd7f6t2HJw20QDUs6pOP3gPfuAI01x57eoj6mFyFMw+\n",
              "i0gZyOQeBm0BFvgKmuKW3ZWevc6dKErI2N8cVhw8UgJDZB8eSaypCo3SNZBBy+i3m0AgjIhO1GpB\n",
              "CMZq1hgRgfjhSf7V3M5GgrCXuzRAYKFVk+Vhn7osQBKhefZbHMLdCawUYx4K/W67jAR+3IPDDgZo\n",
              "go0tJbGlXiLCDg87E074Q+/tXHrG3LTwjoXKFywei9ZIzIzXAQXa0ZvYDeP+8HECCdyHzIaXkci9\n",
              "dGUVchCf/VkOd4/aOnc+aO99beO1UHLvMhDhowOH5DJu/1SN/SyVG3yK/b/QfTvLmcs6kKT9H5jn\n",
              "rRabGVGywrcDgEg36Vxk2M/y2G2Epqvr1WRi3TbOlKElwsjYdvYI7rAHcbxFmCGo11m/dqtWP9q8\n",
              "OytI48FWIovUg5A62HqDeGqx0i2m97klNxiNlkBWiKKaA1EWofV65roC5SbAMI16b3x4eJBJrKON\n",
              "jBgegpImns3MrA6SUfGe1lozWSrnw5iCHjSEy/tW8wWTQsEFF5Mon2KnYAaByqrhgGpH6vIIZ+d7\n",
              "FE4R1vez2aIW7PDVlD8NAHBLeg5TCfw5hXp4lHBjGKwO6/Mt+1PPRmPEtkmX7zQceIDqsEI5Z+5Y\n",
              "SiFlQq9zhDiykJz4h8Ev5AYsnEy/lmHww4TdRvQfBTJqmic9EeGKYqp5K99IDwr2/Oh2nbYDMvT2\n",
              "g5UHWNlvFbUMFgk7zbq0uacEVQhzWsZwRQM03uBdkLx7Qw0Qy11kNUUYvnu5+hnLLC5mG/BmkUA1\n",
              "KF6cZWq5PsMTLszNG8KUOcP348EwaO94RK/iCfxpcf81cLScZNPDqXUc/zYSTH/WR3BQxshiR1Re\n",
              "1Vq+Zext3L+4O7Fy/b+bH0sPAAAZkQAAA4dtb292AAAAbG12aGQAAAAAAAAAAAAAAAAAAAPoAAAB\n",
              "kAABAAABAAAAAAAAAAAAAAAAAQAAAAAAAAAAAAAAAAAAAAEAAAAAAAAAAAAAAAAAAEAAAAAAAAAA\n",
              "AAAAAAAAAAAAAAAAAAAAAAAAAAAAAAACAAACsXRyYWsAAABcdGtoZAAAAAMAAAAAAAAAAAAAAAEA\n",
              "AAAAAAABkAAAAAAAAAAAAAAAAAAAAAAAAQAAAAAAAAAAAAAAAAAAAAEAAAAAAAAAAAAAAAAAAEAA\n",
              "AAADIAAAAlgAAAAAACRlZHRzAAAAHGVsc3QAAAAAAAAAAQAAAZAAAAQAAAEAAAAAAiltZGlhAAAA\n",
              "IG1kaGQAAAAAAAAAAAAAAAAAACgAAAAQAFXEAAAAAAAtaGRscgAAAAAAAAAAdmlkZQAAAAAAAAAA\n",
              "AAAAAFZpZGVvSGFuZGxlcgAAAAHUbWluZgAAABR2bWhkAAAAAQAAAAAAAAAAAAAAJGRpbmYAAAAc\n",
              "ZHJlZgAAAAAAAAABAAAADHVybCAAAAABAAABlHN0YmwAAAC0c3RzZAAAAAAAAAABAAAApGF2YzEA\n",
              "AAAAAAAAAQAAAAAAAAAAAAAAAAAAAAADIAJYAEgAAABIAAAAAAAAAAEAAAAAAAAAAAAAAAAAAAAA\n",
              "AAAAAAAAAAAAAAAAAAAAAAAY//8AAAAyYXZjQwFkAB//4QAZZ2QAH6zZQMgTflhAAAADAEAAAAoD\n",
              "xgxlgAEABmjr48siwAAAABx1dWlka2hA8l8kT8W6OaUbzwMj8wAAAAAAAAAYc3R0cwAAAAAAAAAB\n",
              "AAAACAAAAgAAAAAUc3RzcwAAAAAAAAABAAAAAQAAAEhjdHRzAAAAAAAAAAcAAAABAAAEAAAAAAEA\n",
              "AAoAAAAAAQAABAAAAAABAAAAAAAAAAEAAAIAAAAAAQAACAAAAAACAAACAAAAABxzdHNjAAAAAAAA\n",
              "AAEAAAABAAAACAAAAAEAAAA0c3RzegAAAAAAAAAAAAAACAAAHbYAAAZdAAAFBgAABHEAAARnAAAE\n",
              "nQAABHYAAAPpAAAAFHN0Y28AAAAAAAAAAQAAACwAAABidWR0YQAAAFptZXRhAAAAAAAAACFoZGxy\n",
              "AAAAAAAAAABtZGlyYXBwbAAAAAAAAAAAAAAAAC1pbHN0AAAAJal0b28AAAAdZGF0YQAAAAEAAAAA\n",
              "TGF2ZjU4LjI5LjEwMA==\n",
              "\">\n",
              "  Your browser does not support the video tag.\n",
              "</video>"
            ]
          },
          "metadata": {},
          "execution_count": 16
        }
      ],
      "source": [
        "# Use pretrained model to predict on single data point\n",
        "from demo import load_checkpoints\n",
        "inpainting, kp_detector, dense_motion_network, avd_network = load_checkpoints(config_path = config_path, checkpoint_path = checkpoint_path, device = device)\n",
        "source_image, driving_video, fps = preprocess(source_image_path, driving_video_path, predict_mode)\n",
        "HTML(display(source_image, driving_video).to_html5_video())"
      ]
    },
    {
      "cell_type": "code",
      "execution_count": null,
      "metadata": {
        "id": "-OdsIBM7SVLN"
      },
      "outputs": [],
      "source": [
        "predictions = predict(inpainting, kp_detector, dense_motion_network, avd_network, source_image, driving_video, fps)\n",
        "HTML(display(source_image, driving_video, predictions).to_html5_video())"
      ]
    },
    {
      "cell_type": "code",
      "execution_count": null,
      "metadata": {
        "id": "glqf31WhWkji"
      },
      "outputs": [],
      "source": [
        "# Use model pretrained on mgif to predict reconstructed video with different image animation mode on a mgif video\n",
        "nCols = 1+len(driving_video)\n",
        "fig = plt.figure(figsize=(nCols*10, 20))\n",
        "a = fig.add_subplot(4, nCols, 1)\n",
        "plt.imshow(source_image)\n",
        "a.axis(\"off\")\n",
        "for i, frame in enumerate( driving_video ):\n",
        "    a = fig.add_subplot(4, nCols, i+2)\n",
        "    plt.imshow(frame)\n",
        "    a.axis(\"off\")\n",
        "for i, mode in enumerate(['standard', 'relative', 'avd']):\n",
        "    source_image, driving_video, fps = preprocess(source_image_path, driving_video_path, predict_mode)\n",
        "    predictions = predict(inpainting, kp_detector, dense_motion_network, avd_network, source_image, driving_video, fps)\n",
        "    for j, frame in enumerate( predictions ):\n",
        "        a = fig.add_subplot(4, nCols, j+2+(i+1)*nCols)\n",
        "        plt.imshow(frame)\n",
        "        a.axis(\"off\")\n",
        "    fig.text(0.5, 0.50-0.20*i, f'reconstructed video with mode {mode}', ha='center', va='center', fontsize=80)\n",
        "fig.text(0.15, 0.70, 'source image', ha='center', va='center', fontsize=80)\n",
        "fig.text(0.5, 0.70, 'driving video', ha='center', va='center', fontsize=80)\n",
        "plt.savefig(\"mgif4-comparison\")"
      ]
    }
  ],
  "metadata": {
    "accelerator": "GPU",
    "colab": {
      "provenance": []
    },
    "gpuClass": "standard",
    "kernelspec": {
      "display_name": "Python 3",
      "name": "python3"
    },
    "language_info": {
      "name": "python"
    }
  },
  "nbformat": 4,
  "nbformat_minor": 0
}